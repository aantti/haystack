{
 "cells": [
  {
   "cell_type": "code",
   "execution_count": 20,
   "metadata": {
    "collapsed": true
   },
   "outputs": [],
   "source": [
    "from haystack.reader import FARMReader\n",
    "from haystack.utils import launch_es, print_answers, launch_milvus\n",
    "from pprint import pprint\n",
    "\n",
    "\n",
    "#TODO DRAW AND SHOW PIPELINES"
   ]
  },
  {
   "cell_type": "code",
   "execution_count": 5,
   "outputs": [
    {
     "name": "stderr",
     "output_type": "stream",
     "text": [
      "04/19/2021 16:06:01 - INFO - haystack.preprocessor.utils -   Found data stored in `data/article_txt_got`. Delete this first if you really want to fetch new data.\n",
      "04/19/2021 16:06:01 - INFO - haystack.preprocessor.utils -   Converting data/article_txt_got/145_Elio_M._García_Jr._and_Linda_Antonsson.txt\n",
      "04/19/2021 16:06:01 - INFO - haystack.preprocessor.utils -   Converting data/article_txt_got/401_Power_Is_Power.txt\n",
      "04/19/2021 16:06:01 - INFO - haystack.preprocessor.utils -   Converting data/article_txt_got/368_Jaime_Lannister.txt\n",
      "04/19/2021 16:06:01 - INFO - haystack.preprocessor.utils -   Converting data/article_txt_got/349_List_of_Game_of_Thrones_characters.txt\n",
      "04/19/2021 16:06:01 - INFO - haystack.preprocessor.utils -   Converting data/article_txt_got/39_Renly_Baratheon.txt\n",
      "04/19/2021 16:06:01 - INFO - haystack.preprocessor.utils -   Converting data/article_txt_got/330_Oberyn_Martell.txt\n",
      "04/19/2021 16:06:01 - INFO - haystack.preprocessor.utils -   Converting data/article_txt_got/79_Thronecast.txt\n",
      "04/19/2021 16:06:01 - INFO - haystack.preprocessor.utils -   Converting data/article_txt_got/447_You_Win_or_You_Die.txt\n",
      "04/19/2021 16:06:01 - INFO - haystack.preprocessor.utils -   Converting data/article_txt_got/332_Sansa_Stark.txt\n",
      "04/19/2021 16:06:01 - INFO - haystack.preprocessor.utils -   Converting data/article_txt_got/511_After_the_Thrones.txt\n",
      "04/19/2021 16:06:01 - INFO - haystack.preprocessor.utils -   Converting data/article_txt_got/461_The_Winds_of_Winter__Game_of_Thrones_.txt\n",
      "04/19/2021 16:06:01 - INFO - haystack.preprocessor.utils -   Converting data/article_txt_got/444_Cripples__Bastards__and_Broken_Things.txt\n",
      "04/19/2021 16:06:01 - INFO - haystack.preprocessor.utils -   Converting data/article_txt_got/360_List_of_Game_of_Thrones_episodes.txt\n",
      "04/19/2021 16:06:01 - INFO - haystack.preprocessor.utils -   Converting data/article_txt_got/378_A_Game_of_Thrones__board_game_.txt\n",
      "04/19/2021 16:06:01 - INFO - haystack.preprocessor.utils -   Converting data/article_txt_got/513_Oathbreaker__Game_of_Thrones_.txt\n",
      "04/19/2021 16:06:01 - INFO - haystack.preprocessor.utils -   Converting data/article_txt_got/133_Game_of_Thrones__Season_5__soundtrack_.txt\n",
      "04/19/2021 16:06:01 - INFO - haystack.preprocessor.utils -   Converting data/article_txt_got/217_The_Rogue_Prince.txt\n",
      "04/19/2021 16:06:01 - INFO - haystack.preprocessor.utils -   Converting data/article_txt_got/52_Catch_the_Throne.txt\n",
      "04/19/2021 16:06:01 - INFO - haystack.preprocessor.utils -   Converting data/article_txt_got/343_Catelyn_Stark.txt\n",
      "04/19/2021 16:06:01 - INFO - haystack.preprocessor.utils -   Converting data/article_txt_got/27_Game_of_Thrones__Season_4__soundtrack_.txt\n",
      "04/19/2021 16:06:01 - INFO - haystack.preprocessor.utils -   Converting data/article_txt_got/74_The_Prince_of_Winterfell.txt\n",
      "04/19/2021 16:06:01 - INFO - haystack.preprocessor.utils -   Converting data/article_txt_got/367_Gregor_Clegane.txt\n",
      "04/19/2021 16:06:01 - INFO - haystack.preprocessor.utils -   Converting data/article_txt_got/146_The_Sons_of_the_Dragon.txt\n",
      "04/19/2021 16:06:01 - INFO - haystack.preprocessor.utils -   Converting data/article_txt_got/80_A_Song_of_Ice_and_Fire_fandom.txt\n",
      "04/19/2021 16:06:01 - INFO - haystack.preprocessor.utils -   Converting data/article_txt_got/131_Mhysa.txt\n",
      "04/19/2021 16:06:01 - INFO - haystack.preprocessor.utils -   Converting data/article_txt_got/43_Arya_Stark.txt\n",
      "04/19/2021 16:06:01 - INFO - haystack.preprocessor.utils -   Converting data/article_txt_got/480_Varys.txt\n",
      "04/19/2021 16:06:01 - INFO - haystack.preprocessor.utils -   Converting data/article_txt_got/485_Oathkeeper.txt\n",
      "04/19/2021 16:06:01 - INFO - haystack.preprocessor.utils -   Converting data/article_txt_got/410_The_Bells__Game_of_Thrones_.txt\n",
      "04/19/2021 16:06:01 - INFO - haystack.preprocessor.utils -   Converting data/article_txt_got/310_Mother_s_Mercy.txt\n",
      "04/19/2021 16:06:01 - INFO - haystack.preprocessor.utils -   Converting data/article_txt_got/37_Joffrey_Baratheon.txt\n",
      "04/19/2021 16:06:01 - INFO - haystack.preprocessor.utils -   Converting data/article_txt_got/504_List_of_A_Song_of_Ice_and_Fire_video_games.txt\n",
      "04/19/2021 16:06:01 - INFO - haystack.preprocessor.utils -   Converting data/article_txt_got/232_Tommen_Baratheon.txt\n",
      "04/19/2021 16:06:01 - INFO - haystack.preprocessor.utils -   Converting data/article_txt_got/136_Game_of_Thrones__Season_8__soundtrack_.txt\n",
      "04/19/2021 16:06:01 - INFO - haystack.preprocessor.utils -   Converting data/article_txt_got/121_The_Bear_and_the_Maiden_Fair.txt\n",
      "04/19/2021 16:06:01 - INFO - haystack.preprocessor.utils -   Converting data/article_txt_got/7_The_Spoils_of_War__Game_of_Thrones_.txt\n",
      "04/19/2021 16:06:01 - INFO - haystack.preprocessor.utils -   Converting data/article_txt_got/469_Outline_of_A_Song_of_Ice_and_Fire_franchise.txt\n",
      "04/19/2021 16:06:01 - INFO - haystack.preprocessor.utils -   Converting data/article_txt_got/212_The_Children__Game_of_Thrones_.txt\n",
      "04/19/2021 16:06:01 - INFO - haystack.preprocessor.utils -   Converting data/article_txt_got/341_Ned_Stark.txt\n",
      "04/19/2021 16:06:01 - INFO - haystack.preprocessor.utils -   Converting data/article_txt_got/396_Game_of_Thrones__season_6_.txt\n",
      "04/19/2021 16:06:01 - INFO - haystack.preprocessor.utils -   Converting data/article_txt_got/346_Ygritte.txt\n",
      "04/19/2021 16:06:01 - INFO - haystack.preprocessor.utils -   Converting data/article_txt_got/424_Night_King.txt\n",
      "04/19/2021 16:06:01 - INFO - haystack.preprocessor.utils -   Converting data/article_txt_got/317_The_Broken_Man.txt\n",
      "04/19/2021 16:06:01 - INFO - haystack.preprocessor.utils -   Converting data/article_txt_got/262_Gilly__character_.txt\n",
      "04/19/2021 16:06:01 - INFO - haystack.preprocessor.utils -   Converting data/article_txt_got/0_Game_of_Thrones__season_8_.txt\n",
      "04/19/2021 16:06:01 - INFO - haystack.preprocessor.utils -   Converting data/article_txt_got/348_The_Winds_of_Winter.txt\n",
      "04/19/2021 16:06:01 - INFO - haystack.preprocessor.utils -   Converting data/article_txt_got/22_The_Rains_of_Castamere__song_.txt\n",
      "04/19/2021 16:06:01 - INFO - haystack.preprocessor.utils -   Converting data/article_txt_got/379_Davos_Seaworth.txt\n",
      "04/19/2021 16:06:01 - INFO - haystack.preprocessor.utils -   Converting data/article_txt_got/334_Rickon_Stark.txt\n",
      "04/19/2021 16:06:01 - INFO - haystack.preprocessor.utils -   Converting data/article_txt_got/482_Petyr_Baelish.txt\n",
      "04/19/2021 16:06:01 - INFO - haystack.preprocessor.utils -   Converting data/article_txt_got/454_Music_of_Game_of_Thrones.txt\n",
      "04/19/2021 16:06:01 - INFO - haystack.preprocessor.utils -   Converting data/article_txt_got/8_Eastwatch.txt\n",
      "04/19/2021 16:06:01 - INFO - haystack.preprocessor.utils -   Converting data/article_txt_got/508_A_Game_of_Thrones__Second_Edition__card_game_.txt\n",
      "04/19/2021 16:06:01 - INFO - haystack.preprocessor.utils -   Converting data/article_txt_got/446_A_Golden_Crown.txt\n",
      "04/19/2021 16:06:01 - INFO - haystack.preprocessor.utils -   Converting data/article_txt_got/1_Dragonstone__Game_of_Thrones_episode_.txt\n",
      "04/19/2021 16:06:01 - INFO - haystack.preprocessor.utils -   Converting data/article_txt_got/340_Roose_Bolton.txt\n",
      "04/19/2021 16:06:01 - INFO - haystack.preprocessor.utils -   Converting data/article_txt_got/453_Game_of_Thrones__2012_video_game_.txt\n",
      "04/19/2021 16:06:01 - INFO - haystack.preprocessor.utils -   Converting data/article_txt_got/402_A_Knight_of_the_Seven_Kingdoms__Game_of_Thrones_.txt\n",
      "04/19/2021 16:06:01 - INFO - haystack.preprocessor.utils -   Converting data/article_txt_got/118_Dark_Wings__Dark_Words.txt\n",
      "04/19/2021 16:06:01 - INFO - haystack.preprocessor.utils -   Converting data/article_txt_got/311_Game_of_Thrones__season_7_.txt\n",
      "04/19/2021 16:06:01 - INFO - haystack.preprocessor.utils -   Converting data/article_txt_got/84_List_of_awards_and_nominations_received_by_Game_of_Thrones.txt\n",
      "04/19/2021 16:06:01 - INFO - haystack.preprocessor.utils -   Converting data/article_txt_got/154_Margaery_Tyrell.txt\n",
      "04/19/2021 16:06:01 - INFO - haystack.preprocessor.utils -   Converting data/article_txt_got/20_Light_of_the_Seven.txt\n",
      "04/19/2021 16:06:01 - INFO - haystack.preprocessor.utils -   Converting data/article_txt_got/495_Hodor.txt\n",
      "04/19/2021 16:06:01 - INFO - haystack.preprocessor.utils -   Converting data/article_txt_got/24_Game_of_Thrones__Season_1__soundtrack_.txt\n",
      "04/19/2021 16:06:01 - INFO - haystack.preprocessor.utils -   Converting data/article_txt_got/67_Unbowed__Unbent__Unbroken.txt\n",
      "04/19/2021 16:06:01 - INFO - haystack.preprocessor.utils -   Converting data/article_txt_got/120_And_Now_His_Watch_Is_Ended.txt\n",
      "04/19/2021 16:06:01 - INFO - haystack.preprocessor.utils -   Converting data/article_txt_got/198_A_Clash_of_Kings.txt\n",
      "04/19/2021 16:06:01 - INFO - haystack.preprocessor.utils -   Converting data/article_txt_got/44_Daenerys_Targaryen.txt\n",
      "04/19/2021 16:06:01 - INFO - haystack.preprocessor.utils -   Converting data/article_txt_got/199_A_Storm_of_Swords.txt\n",
      "04/19/2021 16:06:01 - INFO - haystack.preprocessor.utils -   Converting data/article_txt_got/306_The_Dance_of_Dragons.txt\n",
      "04/19/2021 16:06:01 - INFO - haystack.preprocessor.utils -   Converting data/article_txt_got/209_Mockingbird__Game_of_Thrones_.txt\n",
      "04/19/2021 16:06:01 - INFO - haystack.preprocessor.utils -   Converting data/article_txt_got/452_Fire_and_Blood__Game_of_Thrones_.txt\n",
      "04/19/2021 16:06:01 - INFO - haystack.preprocessor.utils -   Converting data/article_txt_got/129_Second_Sons.txt\n",
      "04/19/2021 16:06:01 - INFO - haystack.preprocessor.utils -   Converting data/article_txt_got/400_Winterfell__Game_of_Thrones_episode_.txt\n",
      "04/19/2021 16:06:01 - INFO - haystack.preprocessor.utils -   Converting data/article_txt_got/119_Walk_of_Punishment.txt\n",
      "04/19/2021 16:06:01 - INFO - haystack.preprocessor.utils -   Converting data/article_txt_got/407_The_Long_Night__Game_of_Thrones_.txt\n",
      "04/19/2021 16:06:01 - INFO - haystack.preprocessor.utils -   Converting data/article_txt_got/23_Game_of_Thrones_Live_Concert_Experience.txt\n",
      "04/19/2021 16:06:01 - INFO - haystack.preprocessor.utils -   Converting data/article_txt_got/25_Game_of_Thrones__Season_2__soundtrack_.txt\n",
      "04/19/2021 16:06:01 - INFO - haystack.preprocessor.utils -   Converting data/article_txt_got/514_Book_of_the_Stranger.txt\n",
      "04/19/2021 16:06:01 - INFO - haystack.preprocessor.utils -   Converting data/article_txt_got/9_Game_of_Thrones_Tapestry.txt\n",
      "04/19/2021 16:06:01 - INFO - haystack.preprocessor.utils -   Converting data/article_txt_got/475_A_Game_of_Thrones__role-playing_game_.txt\n",
      "04/19/2021 16:06:01 - INFO - haystack.preprocessor.utils -   Converting data/article_txt_got/53_The_Lion_and_the_Rose.txt\n",
      "04/19/2021 16:06:01 - INFO - haystack.preprocessor.utils -   Converting data/article_txt_got/477_A_Dance_with_Dragons.txt\n",
      "04/19/2021 16:06:01 - INFO - haystack.preprocessor.utils -   Converting data/article_txt_got/56_First_of_His_Name.txt\n",
      "04/19/2021 16:06:01 - INFO - haystack.preprocessor.utils -   Converting data/article_txt_got/439_Melisandre.txt\n",
      "04/19/2021 16:06:01 - INFO - haystack.preprocessor.utils -   Converting data/article_txt_got/85_Game_of_Thrones__Seven_Kingdoms.txt\n",
      "04/19/2021 16:06:01 - INFO - haystack.preprocessor.utils -   Converting data/article_txt_got/373_Tywin_Lannister.txt\n",
      "04/19/2021 16:06:01 - INFO - haystack.preprocessor.utils -   Converting data/article_txt_got/26_Game_of_Thrones__Season_3__soundtrack_.txt\n",
      "04/19/2021 16:06:01 - INFO - haystack.preprocessor.utils -   Converting data/article_txt_got/11_The_Dragon_and_the_Wolf.txt\n",
      "04/19/2021 16:06:01 - INFO - haystack.preprocessor.utils -   Converting data/article_txt_got/86_Game_of_Thrones__season_4_.txt\n",
      "04/19/2021 16:06:01 - INFO - haystack.preprocessor.utils -   Converting data/article_txt_got/75_Blackwater__Game_of_Thrones_.txt\n",
      "04/19/2021 16:06:01 - INFO - haystack.preprocessor.utils -   Converting data/article_txt_got/425_No_One__Game_of_Thrones_.txt\n",
      "04/19/2021 16:06:01 - INFO - haystack.preprocessor.utils -   Converting data/article_txt_got/501_Khal_Drogo.txt\n",
      "04/19/2021 16:06:01 - INFO - haystack.preprocessor.utils -   Converting data/article_txt_got/449_The_Pointy_End.txt\n",
      "04/19/2021 16:06:01 - INFO - haystack.preprocessor.utils -   Converting data/article_txt_got/51_Iron_Throne__A_Song_of_Ice_and_Fire_.txt\n",
      "04/19/2021 16:06:01 - INFO - haystack.preprocessor.utils -   Converting data/article_txt_got/445_The_Wolf_and_the_Lion.txt\n",
      "04/19/2021 16:06:01 - INFO - haystack.preprocessor.utils -   Converting data/article_txt_got/347_Game_of_Thrones__season_2_.txt\n",
      "04/19/2021 16:06:01 - INFO - haystack.preprocessor.utils -   Converting data/article_txt_got/148_Game_of_Thrones__Winter_Is_Coming.txt\n",
      "04/19/2021 16:06:01 - INFO - haystack.preprocessor.utils -   Converting data/article_txt_got/73_A_Man_Without_Honor.txt\n",
      "04/19/2021 16:06:01 - INFO - haystack.preprocessor.utils -   Converting data/article_txt_got/443_The_Kingsroad.txt\n",
      "04/19/2021 16:06:01 - INFO - haystack.preprocessor.utils -   Converting data/article_txt_got/151_Ellaria_Sand.txt\n",
      "04/19/2021 16:06:01 - INFO - haystack.preprocessor.utils -   Converting data/article_txt_got/420_Blood_of_My_Blood.txt\n",
      "04/19/2021 16:06:01 - INFO - haystack.preprocessor.utils -   Converting data/article_txt_got/130_Game_of_Thrones_title_sequence.txt\n",
      "04/19/2021 16:06:01 - INFO - haystack.preprocessor.utils -   Converting data/article_txt_got/99_A_Song_of_Ass_and_Fire.txt\n",
      "04/19/2021 16:06:01 - INFO - haystack.preprocessor.utils -   Converting data/article_txt_got/365_A_Song_of_Ice_and_Fire_Roleplaying.txt\n",
      "04/19/2021 16:06:01 - INFO - haystack.preprocessor.utils -   Converting data/article_txt_got/68_The_Gift__Game_of_Thrones_.txt\n",
      "04/19/2021 16:06:01 - INFO - haystack.preprocessor.utils -   Converting data/article_txt_got/208_Robb_Stark.txt\n",
      "04/19/2021 16:06:01 - INFO - haystack.preprocessor.utils -   Converting data/article_txt_got/210_The_Mountain_and_the_Viper.txt\n",
      "04/19/2021 16:06:01 - INFO - haystack.preprocessor.utils -   Converting data/article_txt_got/40_Stannis_Baratheon.txt\n",
      "04/19/2021 16:06:01 - INFO - haystack.preprocessor.utils -   Converting data/article_txt_got/408_The_Last_of_the_Starks.txt\n",
      "04/19/2021 16:06:01 - INFO - haystack.preprocessor.utils -   Converting data/article_txt_got/345_A_Game_of_Thrones__comics_.txt\n",
      "04/19/2021 16:06:01 - INFO - haystack.preprocessor.utils -   Converting data/article_txt_got/460_Battle_of_the_Bastards.txt\n",
      "04/19/2021 16:06:01 - INFO - haystack.preprocessor.utils -   Converting data/article_txt_got/403_Jenny_of_Oldstones.txt\n",
      "04/19/2021 16:06:01 - INFO - haystack.preprocessor.utils -   Converting data/article_txt_got/160_Viserys_Targaryen.txt\n",
      "04/19/2021 16:06:01 - INFO - haystack.preprocessor.utils -   Converting data/article_txt_got/356_Tales_of_Dunk_and_Egg.txt\n",
      "04/19/2021 16:06:01 - INFO - haystack.preprocessor.utils -   Converting data/article_txt_got/213_Valyrian_languages.txt\n",
      "04/19/2021 16:06:01 - INFO - haystack.preprocessor.utils -   Converting data/article_txt_got/197_A_Game_of_Thrones.txt\n",
      "04/19/2021 16:06:01 - INFO - haystack.preprocessor.utils -   Converting data/article_txt_got/399_For_the_Throne__Music_Inspired_by_the_HBO_Series_Game_of_Thrones.txt\n",
      "04/19/2021 16:06:01 - INFO - haystack.preprocessor.utils -   Converting data/article_txt_got/481_Sandor_Clegane.txt\n",
      "04/19/2021 16:06:01 - INFO - haystack.preprocessor.utils -   Converting data/article_txt_got/304_Hardhome.txt\n",
      "04/19/2021 16:06:01 - INFO - haystack.preprocessor.utils -   Converting data/article_txt_got/329_Robert_Baratheon.txt\n",
      "04/19/2021 16:06:01 - INFO - haystack.preprocessor.utils -   Converting data/article_txt_got/395_Game_of_Thrones__season_5_.txt\n",
      "04/19/2021 16:06:01 - INFO - haystack.preprocessor.utils -   Converting data/article_txt_got/506_Game_of_Thrones_Theme.txt\n",
      "04/19/2021 16:06:01 - INFO - haystack.preprocessor.utils -   Converting data/article_txt_got/2_Stormborn.txt\n",
      "04/19/2021 16:06:01 - INFO - haystack.preprocessor.utils -   Converting data/article_txt_got/411_The_Iron_Throne__Game_of_Thrones_.txt\n",
      "04/19/2021 16:06:01 - INFO - haystack.preprocessor.utils -   Converting data/article_txt_got/362_Winter_Is_Coming.txt\n",
      "04/19/2021 16:06:01 - INFO - haystack.preprocessor.utils -   Converting data/article_txt_got/331_Bran_Stark.txt\n",
      "04/19/2021 16:06:01 - INFO - haystack.preprocessor.utils -   Converting data/article_txt_got/194_A_Song_of_Ice_and_Fire.txt\n",
      "04/19/2021 16:06:01 - INFO - haystack.preprocessor.utils -   Converting data/article_txt_got/474_Bronn__character_.txt\n",
      "04/19/2021 16:06:01 - INFO - haystack.preprocessor.utils -   Converting data/article_txt_got/54_Two_Swords__Game_of_Thrones_.txt\n",
      "04/19/2021 16:06:01 - INFO - haystack.preprocessor.utils -   Converting data/article_txt_got/3_The_Queen_s_Justice.txt\n",
      "04/19/2021 16:06:01 - INFO - haystack.preprocessor.utils -   Converting data/article_txt_got/512_Home__Game_of_Thrones_.txt\n",
      "04/19/2021 16:06:01 - INFO - haystack.preprocessor.utils -   Converting data/article_txt_got/77_Game_of_Thrones_Ascent.txt\n",
      "04/19/2021 16:06:01 - INFO - haystack.preprocessor.utils -   Converting data/article_txt_got/191_Gendry.txt\n",
      "04/19/2021 16:06:01 - INFO - haystack.preprocessor.utils -   Converting data/article_txt_got/98_Black_Friday__South_Park_.txt\n",
      "04/19/2021 16:06:01 - INFO - haystack.preprocessor.utils -   Converting data/article_txt_got/12_Fire.txt\n",
      "04/19/2021 16:06:01 - INFO - haystack.preprocessor.utils -   Converting data/article_txt_got/218_Olenna_Tyrell.txt\n",
      "04/19/2021 16:06:01 - INFO - haystack.preprocessor.utils -   Converting data/article_txt_got/10_Beyond_the_Wall__Game_of_Thrones_.txt\n",
      "04/19/2021 16:06:01 - INFO - haystack.preprocessor.utils -   Converting data/article_txt_got/127_The_Climb__Game_of_Thrones_.txt\n",
      "04/19/2021 16:06:01 - INFO - haystack.preprocessor.utils -   Converting data/article_txt_got/342_Theon_Greyjoy.txt\n",
      "04/19/2021 16:06:01 - INFO - haystack.preprocessor.utils -   Converting data/article_txt_got/369_Samwell_Tarly.txt\n",
      "04/19/2021 16:06:01 - INFO - haystack.preprocessor.utils -   Converting data/article_txt_got/211_The_Watchers_on_the_Wall.txt\n",
      "04/19/2021 16:06:01 - INFO - haystack.preprocessor.utils -   Converting data/article_txt_got/195_World_of_A_Song_of_Ice_and_Fire.txt\n",
      "04/19/2021 16:06:01 - INFO - haystack.preprocessor.utils -   Converting data/article_txt_got/102_The_Princess_and_the_Queen.txt\n",
      "04/19/2021 16:06:01 - INFO - haystack.preprocessor.utils -   Converting data/article_txt_got/233_Myrcella_Baratheon.txt\n",
      "04/19/2021 16:06:01 - INFO - haystack.preprocessor.utils -   Converting data/article_txt_got/359_Kill_the_Boy.txt\n",
      "04/19/2021 16:06:01 - INFO - haystack.preprocessor.utils -   Converting data/article_txt_got/30_List_of_A_Song_of_Ice_and_Fire_characters.txt\n",
      "04/19/2021 16:06:01 - INFO - haystack.preprocessor.utils -   Converting data/article_txt_got/33_David_Benioff.txt\n",
      "04/19/2021 16:06:01 - INFO - haystack.preprocessor.utils -   Converting data/article_txt_got/201_A_Game_of_Thrones__card_game_.txt\n",
      "04/19/2021 16:06:01 - INFO - haystack.preprocessor.utils -   Converting data/article_txt_got/134_Game_of_Thrones__Season_6__soundtrack_.txt\n",
      "04/19/2021 16:06:01 - INFO - haystack.preprocessor.utils -   Converting data/article_txt_got/487_Ramsay_Bolton.txt\n",
      "04/19/2021 16:06:01 - INFO - haystack.preprocessor.utils -   Converting data/article_txt_got/76_Valar_Morghulis.txt\n",
      "04/19/2021 16:06:01 - INFO - haystack.preprocessor.utils -   Converting data/article_txt_got/126_Kissed_by_Fire.txt\n",
      "04/19/2021 16:06:01 - INFO - haystack.preprocessor.utils -   Converting data/article_txt_got/97_Tyrion_Lannister.txt\n",
      "04/19/2021 16:06:01 - INFO - haystack.preprocessor.utils -   Converting data/article_txt_got/450_Baelor.txt\n",
      "04/19/2021 16:06:01 - INFO - haystack.preprocessor.utils -   Converting data/article_txt_got/371_Cersei_Lannister.txt\n",
      "04/19/2021 16:06:01 - INFO - haystack.preprocessor.utils -   Converting data/article_txt_got/78_The_Rains_of_Castamere.txt\n",
      "04/19/2021 16:06:01 - INFO - haystack.preprocessor.utils -   Converting data/article_txt_got/55_Breaker_of_Chains.txt\n",
      "04/19/2021 16:06:01 - INFO - haystack.preprocessor.utils -   Converting data/article_txt_got/224_The_Night_Lands.txt\n",
      "04/19/2021 16:06:01 - INFO - haystack.preprocessor.utils -   Converting data/article_txt_got/442_Game_of_Thrones__season_1_.txt\n",
      "04/19/2021 16:06:01 - INFO - haystack.preprocessor.utils -   Converting data/article_txt_got/515_The_Door__Game_of_Thrones_.txt\n",
      "04/19/2021 16:06:01 - INFO - haystack.preprocessor.utils -   Converting data/article_txt_got/263_Tormund_Giantsbane.txt\n",
      "04/19/2021 16:06:01 - INFO - haystack.preprocessor.utils -   Converting data/article_txt_got/214_Dothraki_language.txt\n",
      "04/19/2021 16:06:01 - INFO - haystack.preprocessor.utils -   Converting data/article_txt_got/135_Game_of_Thrones__Season_7__soundtrack_.txt\n",
      "04/19/2021 16:06:01 - INFO - haystack.preprocessor.utils -   Converting data/article_txt_got/435_White_Walker.txt\n",
      "04/19/2021 16:06:01 - INFO - haystack.preprocessor.utils -   Converting data/article_txt_got/456_Works_based_on_A_Song_of_Ice_and_Fire.txt\n",
      "04/19/2021 16:06:01 - INFO - haystack.preprocessor.utils -   Converting data/article_txt_got/488_Brienne_of_Tarth.txt\n",
      "04/19/2021 16:06:01 - INFO - haystack.preprocessor.utils -   Converting data/article_txt_got/229_Game_of_Thrones.txt\n",
      "04/19/2021 16:06:01 - INFO - haystack.preprocessor.utils -   Converting data/article_txt_got/87_Valar_Dohaeris.txt\n",
      "04/19/2021 16:06:01 - INFO - haystack.preprocessor.utils -   Converting data/article_txt_got/207_Jon_Snow__character_.txt\n",
      "04/19/2021 16:06:01 - INFO - haystack.preprocessor.utils -   Converting data/article_txt_got/202_A_Feast_for_Crows.txt\n",
      "04/19/2021 16:06:01 - INFO - haystack.preprocessor.utils -   Converting data/article_txt_got/299_Rani_Mahal__TV_series_.txt\n",
      "04/19/2021 16:06:01 - INFO - haystack.preprocessor.utils -   Converting data/article_txt_got/57_The_Laws_of_Gods_and_Men.txt\n",
      "04/19/2021 16:06:01 - INFO - haystack.preprocessor.utils -   Converting data/article_txt_got/228_Souad_Faress.txt\n",
      "04/19/2021 16:06:01 - INFO - haystack.preprocessor.utils -   Converting data/article_txt_got/273_High_Sparrow.txt\n",
      "04/19/2021 16:06:01 - INFO - haystack.preprocessor.utils -   Converting data/article_txt_got/101_Titties_and_Dragons.txt\n",
      "04/19/2021 16:06:01 - INFO - haystack.preprocessor.utils -   Converting data/article_txt_got/358_A_Game_of_Thrones__Genesis.txt\n",
      "04/19/2021 16:06:01 - INFO - haystack.preprocessor.utils -   Converting data/article_txt_got/193_Lord_Snow.txt\n",
      "04/19/2021 16:06:01 - INFO - haystack.preprocessor.utils -   Converting data/article_txt_got/21_The_Bear_and_the_Maiden_Fair__song_.txt\n",
      "04/19/2021 16:06:01 - INFO - haystack.preprocessor.utils -   Converting data/article_txt_got/69_The_Red_Woman.txt\n",
      "04/19/2021 16:06:01 - INFO - haystack.preprocessor.utils -   Converting data/article_txt_got/28_Jorah_Mormont.txt\n",
      "04/19/2021 16:06:01 - INFO - haystack.preprocessor.utils -   Converting data/article_txt_got/394_Game_of_Thrones__2014_video_game_.txt\n"
     ]
    }
   ],
   "source": [
    "from haystack.preprocessor.utils import fetch_archive_from_http, convert_files_to_dicts\n",
    "from haystack.preprocessor.cleaning import clean_wiki_text\n",
    "\n",
    "#Download and prepare data - 517 Wikipedia articles for Game of Thrones\n",
    "doc_dir = \"data/article_txt_got\"\n",
    "s3_url = \"https://s3.eu-central-1.amazonaws.com/deepset.ai-farm-qa/datasets/documents/wiki_gameofthrones_txt.zip\"\n",
    "fetch_archive_from_http(url=s3_url, output_dir=doc_dir)\n",
    "\n",
    "# convert files to dicts containing documents that can be indexed to our datastore\n",
    "got_dicts = convert_files_to_dicts(dir_path=doc_dir, clean_func=clean_wiki_text, split_paragraphs=True)"
   ],
   "metadata": {
    "collapsed": false,
    "pycharm": {
     "name": "#%%\n"
    }
   }
  },
  {
   "cell_type": "code",
   "source": [
    "from haystack import Pipeline\n",
    "from haystack.document_store import ElasticsearchDocumentStore\n",
    "from haystack.retriever.sparse import ElasticsearchRetriever\n",
    "\n",
    "#Init core components\n",
    "\n",
    "launch_es()\n",
    "document_store = ElasticsearchDocumentStore()\n",
    "document_store.delete_all_documents()\n",
    "document_store.write_documents(got_dicts)\n",
    "\n",
    "es_retriever = ElasticsearchRetriever(document_store=document_store)\n",
    "\n",
    "reader = FARMReader(model_name_or_path=\"deepset/roberta-base-squad2\")"
   ],
   "metadata": {
    "collapsed": false,
    "pycharm": {
     "name": "#%%\n"
    }
   },
   "execution_count": 27,
   "outputs": [
    {
     "name": "stderr",
     "output_type": "stream",
     "text": [
      "04/19/2021 18:02:24 - INFO - haystack.utils -   Starting Elasticsearch ...\n",
      "04/19/2021 18:02:24 - WARNING - haystack.utils -   Tried to start Elasticsearch through Docker but this failed. It is likely that there is already an existing Elasticsearch instance running. \n",
      "04/19/2021 18:02:24 - INFO - elasticsearch -   HEAD http://localhost:9200/ [status:200 request:0.004s]\n",
      "04/19/2021 18:02:24 - INFO - elasticsearch -   HEAD http://localhost:9200/document [status:200 request:0.002s]\n",
      "04/19/2021 18:02:24 - INFO - elasticsearch -   GET http://localhost:9200/document [status:200 request:0.002s]\n",
      "04/19/2021 18:02:24 - INFO - elasticsearch -   PUT http://localhost:9200/document/_mapping [status:200 request:0.006s]\n",
      "04/19/2021 18:02:24 - INFO - elasticsearch -   HEAD http://localhost:9200/label [status:200 request:0.002s]\n",
      "04/19/2021 18:02:26 - INFO - elasticsearch -   POST http://localhost:9200/document/_delete_by_query [status:200 request:1.347s]\n",
      "04/19/2021 18:02:28 - INFO - elasticsearch -   POST http://localhost:9200/_bulk?refresh=wait_for [status:200 request:0.313s]\n",
      "04/19/2021 18:02:29 - INFO - elasticsearch -   POST http://localhost:9200/_bulk?refresh=wait_for [status:200 request:1.014s]\n",
      "04/19/2021 18:02:30 - INFO - elasticsearch -   POST http://localhost:9200/_bulk?refresh=wait_for [status:200 request:1.019s]\n",
      "04/19/2021 18:02:31 - INFO - elasticsearch -   POST http://localhost:9200/_bulk?refresh=wait_for [status:200 request:1.020s]\n",
      "04/19/2021 18:02:32 - INFO - elasticsearch -   POST http://localhost:9200/_bulk?refresh=wait_for [status:200 request:1.014s]\n",
      "04/19/2021 18:02:32 - INFO - farm.utils -   Using device: CUDA \n",
      "04/19/2021 18:02:32 - INFO - farm.utils -   Number of GPUs: 1\n",
      "04/19/2021 18:02:32 - INFO - farm.utils -   Distributed Training: False\n",
      "04/19/2021 18:02:32 - INFO - farm.utils -   Automatic Mixed Precision: None\n",
      "Some weights of RobertaModel were not initialized from the model checkpoint at deepset/roberta-base-squad2 and are newly initialized: ['roberta.pooler.dense.weight', 'roberta.pooler.dense.bias']\n",
      "You should probably TRAIN this model on a down-stream task to be able to use it for predictions and inference.\n",
      "04/19/2021 18:02:43 - WARNING - farm.utils -   ML Logging is turned off. No parameters, metrics or artifacts will be logged to MLFlow.\n",
      "04/19/2021 18:02:43 - INFO - farm.utils -   Using device: CUDA \n",
      "04/19/2021 18:02:43 - INFO - farm.utils -   Number of GPUs: 1\n",
      "04/19/2021 18:02:43 - INFO - farm.utils -   Distributed Training: False\n",
      "04/19/2021 18:02:43 - INFO - farm.utils -   Automatic Mixed Precision: None\n",
      "04/19/2021 18:02:43 - INFO - farm.infer -   Got ya 7 parallel workers to do inference ...\n",
      "04/19/2021 18:02:43 - INFO - farm.infer -    0    0    0    0    0    0    0 \n",
      "04/19/2021 18:02:43 - INFO - farm.infer -   /w\\  /w\\  /w\\  /w\\  /w\\  /w\\  /w\\\n",
      "04/19/2021 18:02:43 - INFO - farm.infer -   /'\\  / \\  /'\\  /'\\  / \\  / \\  /'\\\n",
      "04/19/2021 18:02:43 - INFO - farm.infer -               \n"
     ]
    }
   ]
  },
  {
   "cell_type": "code",
   "execution_count": 12,
   "outputs": [
    {
     "name": "stderr",
     "output_type": "stream",
     "text": [
      "04/19/2021 16:08:44 - INFO - elasticsearch -   POST http://localhost:9200/document/_search [status:200 request:0.026s]\n",
      "Inferencing Samples: 100%|██████████| 1/1 [00:00<00:00, 44.06 Batches/s]\n",
      "Inferencing Samples: 100%|██████████| 1/1 [00:00<00:00, 52.38 Batches/s]\n",
      "Inferencing Samples: 100%|██████████| 1/1 [00:00<00:00, 46.19 Batches/s]\n",
      "Inferencing Samples: 100%|██████████| 1/1 [00:00<00:00, 49.12 Batches/s]\n",
      "Inferencing Samples: 100%|██████████| 1/1 [00:00<00:00, 22.93 Batches/s]\n",
      "Inferencing Samples: 100%|██████████| 1/1 [00:00<00:00, 22.69 Batches/s]\n",
      "Inferencing Samples: 100%|██████████| 1/1 [00:00<00:00, 30.63 Batches/s]\n",
      "Inferencing Samples: 100%|██████████| 1/1 [00:00<00:00, 31.57 Batches/s]\n",
      "Inferencing Samples: 100%|██████████| 1/1 [00:00<00:00, 32.15 Batches/s]\n",
      "Inferencing Samples: 100%|██████████| 1/1 [00:00<00:00, 32.45 Batches/s]"
     ]
    },
    {
     "name": "stdout",
     "output_type": "stream",
     "text": [
      "[   {   'answer': 'Lord Eddard Stark',\n",
      "        'context': 'ark daughters.\\n'\n",
      "                   'During the Tourney of the Hand to honour her father Lord '\n",
      "                   'Eddard Stark, Sansa Stark is enchanted by the knights '\n",
      "                   'performing in the event.'},\n",
      "    {   'answer': 'Lord Eddard Stark',\n",
      "        'context': 'ark daughters.\\n'\n",
      "                   'During the Tourney of the Hand to honour her father Lord '\n",
      "                   'Eddard Stark, Sansa Stark is enchanted by the knights '\n",
      "                   'performing in the event.'},\n",
      "    {   'answer': 'Ned',\n",
      "        'context': '\\n'\n",
      "                   '====Season 1====\\n'\n",
      "                   'Arya accompanies her father Ned and her sister Sansa to '\n",
      "                   \"King's Landing. Before their departure, Arya's \"\n",
      "                   'half-brother Jon Snow gifts A'},\n",
      "    {   'answer': 'Ned',\n",
      "        'context': '\\n'\n",
      "                   '====Season 1====\\n'\n",
      "                   'Arya accompanies her father Ned and her sister Sansa to '\n",
      "                   \"King's Landing. Before their departure, Arya's \"\n",
      "                   'half-brother Jon Snow gifts A'},\n",
      "    {   'answer': 'Joffrey',\n",
      "        'context': 'laying with one of his wooden toys.\\n'\n",
      "                   \"After Eddard discovers the truth of Joffrey's paternity, \"\n",
      "                   'he tells Sansa that they will be heading back to Winterfe'},\n",
      "    {   'answer': 'Joffrey',\n",
      "        'context': 'laying with one of his wooden toys.\\n'\n",
      "                   \"After Eddard discovers the truth of Joffrey's paternity, \"\n",
      "                   'he tells Sansa that they will be heading back to Winterfe'},\n",
      "    {   'answer': 'Robb',\n",
      "        'context': 'allow the army to cross the river and to commit his troops '\n",
      "                   'in return for Robb and Arya Stark marrying two of his '\n",
      "                   'children.\\n'\n",
      "                   'Tyrion Lannister suspects h'},\n",
      "    {   'answer': 'Robb',\n",
      "        'context': 'allow the army to cross the river and to commit his troops '\n",
      "                   'in return for Robb and Arya Stark marrying two of his '\n",
      "                   'children.\\n'\n",
      "                   'Tyrion Lannister suspects h'},\n",
      "    {   'answer': 'Ned',\n",
      "        'context': 'rya to reveal her true identity, and is surprised to learn '\n",
      "                   \"she is in fact Ned Stark's daughter. After the Goldcloaks \"\n",
      "                   'get help from Ser Amory Lorch and'},\n",
      "    {   'answer': 'Ned',\n",
      "        'context': 'rya to reveal her true identity, and is surprised to learn '\n",
      "                   \"she is in fact Ned Stark's daughter. After the Goldcloaks \"\n",
      "                   'get help from Ser Amory Lorch and'}]\n"
     ]
    },
    {
     "name": "stderr",
     "output_type": "stream",
     "text": [
      "\n"
     ]
    }
   ],
   "source": [
    "from haystack.pipeline import ExtractiveQAPipeline\n",
    "\n",
    "# Premade pipeline\n",
    "\n",
    "p_extractive_premade = ExtractiveQAPipeline(reader=reader, retriever=es_retriever)\n",
    "res = p_extractive_premade.run(query=\"Who is the father of Arya Stark?\", top_k_retriever=10, top_k_reader=5)\n",
    "p_extractive_premade.draw()\n",
    "\n",
    "print_answers(res, details=\"minimal\")"
   ],
   "metadata": {
    "collapsed": false,
    "pycharm": {
     "name": "#%%\n"
    }
   }
  },
  {
   "cell_type": "code",
   "execution_count": 18,
   "outputs": [
    {
     "name": "stderr",
     "output_type": "stream",
     "text": [
      "04/19/2021 16:12:50 - INFO - elasticsearch -   POST http://localhost:9200/document/_search [status:200 request:0.017s]\n",
      "Inferencing Samples: 100%|██████████| 1/1 [00:00<00:00, 29.35 Batches/s]\n",
      "Inferencing Samples: 100%|██████████| 1/1 [00:00<00:00, 48.11 Batches/s]\n",
      "Inferencing Samples: 100%|██████████| 1/1 [00:00<00:00, 43.18 Batches/s]\n",
      "Inferencing Samples: 100%|██████████| 1/1 [00:00<00:00, 55.98 Batches/s]\n",
      "Inferencing Samples: 100%|██████████| 1/1 [00:00<00:00, 23.31 Batches/s]\n",
      "Inferencing Samples: 100%|██████████| 1/1 [00:00<00:00, 22.96 Batches/s]\n",
      "Inferencing Samples: 100%|██████████| 1/1 [00:00<00:00, 33.32 Batches/s]\n",
      "Inferencing Samples: 100%|██████████| 1/1 [00:00<00:00, 31.94 Batches/s]\n",
      "Inferencing Samples: 100%|██████████| 1/1 [00:00<00:00, 32.01 Batches/s]\n",
      "Inferencing Samples: 100%|██████████| 1/1 [00:00<00:00, 32.50 Batches/s]"
     ]
    },
    {
     "name": "stdout",
     "output_type": "stream",
     "text": [
      "[   {   'answer': 'Lord Eddard Stark',\n",
      "        'context': 'ark daughters.\\n'\n",
      "                   'During the Tourney of the Hand to honour her father Lord '\n",
      "                   'Eddard Stark, Sansa Stark is enchanted by the knights '\n",
      "                   'performing in the event.'},\n",
      "    {   'answer': 'Lord Eddard Stark',\n",
      "        'context': 'ark daughters.\\n'\n",
      "                   'During the Tourney of the Hand to honour her father Lord '\n",
      "                   'Eddard Stark, Sansa Stark is enchanted by the knights '\n",
      "                   'performing in the event.'},\n",
      "    {   'answer': 'Ned',\n",
      "        'context': '\\n'\n",
      "                   '====Season 1====\\n'\n",
      "                   'Arya accompanies her father Ned and her sister Sansa to '\n",
      "                   \"King's Landing. Before their departure, Arya's \"\n",
      "                   'half-brother Jon Snow gifts A'},\n",
      "    {   'answer': 'Ned',\n",
      "        'context': '\\n'\n",
      "                   '====Season 1====\\n'\n",
      "                   'Arya accompanies her father Ned and her sister Sansa to '\n",
      "                   \"King's Landing. Before their departure, Arya's \"\n",
      "                   'half-brother Jon Snow gifts A'},\n",
      "    {   'answer': 'Robb',\n",
      "        'context': 'allow the army to cross the river and to commit his troops '\n",
      "                   'in return for Robb and Arya Stark marrying two of his '\n",
      "                   'children.\\n'\n",
      "                   'Tyrion Lannister suspects h'}]\n"
     ]
    },
    {
     "name": "stderr",
     "output_type": "stream",
     "text": [
      "\n"
     ]
    }
   ],
   "source": [
    "# Construct basic Retriever-Reader pipeline - same as above\n",
    "\n",
    "p_extractive = Pipeline()\n",
    "\n",
    "p_extractive.add_node(component=es_retriever, name=\"Retriever\", inputs=[\"Query\"])\n",
    "p_extractive.add_node(component=reader, name=\"Reader\", inputs=[\"Retriever\"])\n",
    "res = p_extractive.run(query=\"Who is the father of Arya Stark??\", top_k_retriever=10, top_k_reader=5)\n",
    "\n",
    "print_answers(res, details=\"minimal\")\n",
    "\n",
    "\n",
    "# Can Milvus run on GCP?\n",
    "# Indexing vs querying pipeline???\n",
    "# Yaml???"
   ],
   "metadata": {
    "collapsed": false,
    "pycharm": {
     "name": "#%%\n"
    }
   }
  },
  {
   "cell_type": "code",
   "execution_count": 24,
   "outputs": [
    {
     "name": "stderr",
     "output_type": "stream",
     "text": [
      "04/19/2021 16:15:56 - INFO - elasticsearch -   POST http://localhost:9200/document/_search [status:200 request:0.012s]\n"
     ]
    },
    {
     "name": "stdout",
     "output_type": "stream",
     "text": [
      "{'documents': [{'text': \"\\n===In the Riverlands===\\nThe Stark army reaches the Twins, a bridge stronghold controlled by Walder Frey, who agrees to allow the army to cross the river and to commit his troops in return for Robb and Arya Stark marrying two of his children.\\nTyrion Lannister suspects his father Tywin, who decides Tyrion and his barbarians will fight in the vanguard, wants him killed. As Tyrion, Bronn, and the prostitute Shae swap stories, Tyrion reveals he was married to a woman his father revealed was a prostitute, and made Tyrion watch as his guardsmen raped her.\\nAs a Stark force approaches, Tyrion is trampled in the rush and regains consciousness to find the battle over. Tywin discovers the Stark host was only 2,000 men, not the 20,000 he was led to expect.\\nRobb, having divided his forces, defeats Jaime Lannister's army with his remaining 18,000 men and captures Jaime.\", 'id': '57a07931-60e2-4ee6-870a-dbbab36af336', 'score': 11.65971, 'probability': 0.8111444554282315, 'question': None, 'meta': {'name': '450_Baelor.txt'}, 'embedding': None},\n",
      "               {'text': \"\\n===In the Riverlands===\\nThe Stark army reaches the Twins, a bridge stronghold controlled by Walder Frey, who agrees to allow the army to cross the river and to commit his troops in return for Robb and Arya Stark marrying two of his children.\\nTyrion Lannister suspects his father Tywin, who decides Tyrion and his barbarians will fight in the vanguard, wants him killed. As Tyrion, Bronn, and the prostitute Shae swap stories, Tyrion reveals he was married to a woman his father revealed was a prostitute, and made Tyrion watch as his guardsmen raped her.\\nAs a Stark force approaches, Tyrion is trampled in the rush and regains consciousness to find the battle over. Tywin discovers the Stark host was only 2,000 men, not the 20,000 he was led to expect.\\nRobb, having divided his forces, defeats Jaime Lannister's army with his remaining 18,000 men and captures Jaime.\", 'id': 'eee2c364-3a36-4880-a8f4-7d158c9582f1', 'score': 11.65971, 'probability': 0.8111444554282315, 'question': None, 'meta': {'name': '450_Baelor.txt'}, 'embedding': None},\n",
      "               {'text': '\\n===On the Kingsroad===\\nCity Watchmen search the caravan for Gendry but are turned away by Yoren. Gendry tells Arya Stark that he knows she is a girl, and she reveals she is actually Arya Stark after learning that her father met Gendry before he was executed.', 'id': '1c11f154-8202-48ca-93fd-c382eac86c22', 'score': 11.386861, 'probability': 0.8058642464990047, 'question': None, 'meta': {'name': '224_The_Night_Lands.txt'}, 'embedding': None},\n",
      "               {'text': '\\n===On the Kingsroad===\\nCity Watchmen search the caravan for Gendry but are turned away by Yoren. Gendry tells Arya Stark that he knows she is a girl, and she reveals she is actually Arya Stark after learning that her father met Gendry before he was executed.', 'id': '947f4b56-7839-448e-8fc8-7318acbb486e', 'score': 11.386861, 'probability': 0.8058642464990047, 'question': None, 'meta': {'name': '224_The_Night_Lands.txt'}, 'embedding': None},\n",
      "               {'text': '\\n===\\'\\'A Game of Thrones\\'\\'===\\nSansa Stark begins the novel by being betrothed to Crown Prince Joffrey Baratheon, believing Joffrey to be a gallant prince. While Joffrey and Sansa are walking through the woods, Joffrey notices Arya sparring with the butcher\\'s boy, Mycah. A fight breaks out and Joffrey is attacked by Nymeria (Arya\\'s direwolf) after Joffrey threatens to hurt Arya. Sansa lies to King Robert about the circumstances of the fight in order to protect both Joffrey and her sister Arya.  Since Arya ran off with her wolf to save it, Sansa\\'s wolf is killed instead, estranging the Stark daughters.\\nDuring the Tourney of the Hand to honour her father Lord Eddard Stark, Sansa Stark is enchanted by the knights performing in the event.  At the request of his mother, Queen Cersei Lannister, Joffrey spends a portion of the tourney with Sansa, but near the end he commands his guard Sandor Clegane, better known as The Hound, to take her back to her quarters. Sandor explains how his older brother, Gregor, aka \"Mountain that Rides\" pushed his face into a brazier of hot coals, for playing with one of his wooden toys.\\nAfter Eddard discovers the truth of Joffrey\\'s paternity, he tells Sansa that they will be heading back to Winterfell. Sansa is devastated and wishes to stay in King\\'s Landing, so she runs off to inform Queen Cersei of her father\\'s plans, unwittingly providing Cersei with the information needed to arrest her father. After Robert dies, Sansa begs Joffrey to show mercy on her father and he agrees, if Ned will swear an oath of loyalty, but executes him anyway, in front of Sansa.  Sansa is now effectively a hostage in King\\'s Landing and finally sees Joffrey\\'s true nature, after he forces her to look at the tarred head of her now-deceased father.', 'id': 'ca46b627-4f74-4cb7-8c20-700dc0311d9b', 'score': 11.19707, 'probability': 0.8021257637825728, 'question': None, 'meta': {'name': '332_Sansa_Stark.txt'}, 'embedding': None},\n",
      "               {'text': '\\n===\\'\\'A Game of Thrones\\'\\'===\\nSansa Stark begins the novel by being betrothed to Crown Prince Joffrey Baratheon, believing Joffrey to be a gallant prince. While Joffrey and Sansa are walking through the woods, Joffrey notices Arya sparring with the butcher\\'s boy, Mycah. A fight breaks out and Joffrey is attacked by Nymeria (Arya\\'s direwolf) after Joffrey threatens to hurt Arya. Sansa lies to King Robert about the circumstances of the fight in order to protect both Joffrey and her sister Arya.  Since Arya ran off with her wolf to save it, Sansa\\'s wolf is killed instead, estranging the Stark daughters.\\nDuring the Tourney of the Hand to honour her father Lord Eddard Stark, Sansa Stark is enchanted by the knights performing in the event.  At the request of his mother, Queen Cersei Lannister, Joffrey spends a portion of the tourney with Sansa, but near the end he commands his guard Sandor Clegane, better known as The Hound, to take her back to her quarters. Sandor explains how his older brother, Gregor, aka \"Mountain that Rides\" pushed his face into a brazier of hot coals, for playing with one of his wooden toys.\\nAfter Eddard discovers the truth of Joffrey\\'s paternity, he tells Sansa that they will be heading back to Winterfell. Sansa is devastated and wishes to stay in King\\'s Landing, so she runs off to inform Queen Cersei of her father\\'s plans, unwittingly providing Cersei with the information needed to arrest her father. After Robert dies, Sansa begs Joffrey to show mercy on her father and he agrees, if Ned will swear an oath of loyalty, but executes him anyway, in front of Sansa.  Sansa is now effectively a hostage in King\\'s Landing and finally sees Joffrey\\'s true nature, after he forces her to look at the tarred head of her now-deceased father.', 'id': 'fcf67fac-902e-4ce7-8c87-59a6b4a5012e', 'score': 11.19707, 'probability': 0.8021257637825728, 'question': None, 'meta': {'name': '332_Sansa_Stark.txt'}, 'embedding': None},\n",
      "               {'text': \"\\n===Season 2===\\nGendry travels North with Yoren and other Night's Watch recruits, including Arya Stark (disguised as an orphan boy named 'Arry), Lommy Greenhands, Hot Pie and Jaqen H'ghar. During their journey, they are stopped by the Goldcloaks of the City Watch, who demand that Yoren hand Gendry over to them - King Joffrey has ordered that all of his father Robert's bastards be killed, but Yoren turns the Goldcloaks away. Later, Gendry forces Arya to reveal her true identity, and is surprised to learn she is in fact Ned Stark's daughter. After the Goldcloaks get help from Ser Amory Lorch and his men, they ambush the travelling party. In the chaos, Yoren is killed. Gendry's life is then saved by Arya, who convinces the Goldcloaks that Lommy, who was killed during the attack, was in fact Gendry. Gendry and the rest of the recruits are then escorted to Harrenhal, the ruined castle-turned-prison. Ser Gregor Clegane oversees order here, and arbitrarily has many of the prisoners tortured and killed. Gendry is nearly tortured and killed but is saved by the arrival of Lord Tywin Lannister, who chides Clegane's men for their reckless treatment of the prisoners. Thanks to Jaqen H'ghars help, Arya, Gendry and Hot Pie are able to escape Harrenhal.\", 'id': 'cafef1d1-2ed6-4595-b8c7-8c17f2e8deba', 'score': 11.101116, 'probability': 0.8002151353722925, 'question': None, 'meta': {'name': '191_Gendry.txt'}, 'embedding': None},\n",
      "               {'text': \"\\n===Season 2===\\nGendry travels North with Yoren and other Night's Watch recruits, including Arya Stark (disguised as an orphan boy named 'Arry), Lommy Greenhands, Hot Pie and Jaqen H'ghar. During their journey, they are stopped by the Goldcloaks of the City Watch, who demand that Yoren hand Gendry over to them - King Joffrey has ordered that all of his father Robert's bastards be killed, but Yoren turns the Goldcloaks away. Later, Gendry forces Arya to reveal her true identity, and is surprised to learn she is in fact Ned Stark's daughter. After the Goldcloaks get help from Ser Amory Lorch and his men, they ambush the travelling party. In the chaos, Yoren is killed. Gendry's life is then saved by Arya, who convinces the Goldcloaks that Lommy, who was killed during the attack, was in fact Gendry. Gendry and the rest of the recruits are then escorted to Harrenhal, the ruined castle-turned-prison. Ser Gregor Clegane oversees order here, and arbitrarily has many of the prisoners tortured and killed. Gendry is nearly tortured and killed but is saved by the arrival of Lord Tywin Lannister, who chides Clegane's men for their reckless treatment of the prisoners. Thanks to Jaqen H'ghars help, Arya, Gendry and Hot Pie are able to escape Harrenhal.\", 'id': '37a44052-a04b-43ec-a533-e7ec6c753b24', 'score': 11.101116, 'probability': 0.8002151353722925, 'question': None, 'meta': {'name': '191_Gendry.txt'}, 'embedding': None},\n",
      "               {'text': '\\n====Season 1====\\nArya accompanies her father Ned and her sister Sansa to King\\'s Landing. Before their departure, Arya\\'s half-brother Jon Snow gifts Arya a sword which she dubs \"Needle\". On the Kingsroad, Arya is sparring with a butcher\\'s boy, Mycah, when Sansa\\'s betrothed Prince Joffrey Baratheon attacks Mycah, prompting Arya\\'s direwolf Nymeria to bite Joffrey. Arya shoos Nymeria away so she is not killed, but is furious when Sansa later refuses to support her version of events. Mycah is later killed by Joffrey\\'s bodyguard Sandor \"The Hound\" Clegane, earning him Arya\\'s hatred. Ned arranges for Arya to have sword lessons with the Braavosi Syrio Forel, who later defends her from Ser Meryn Trant after Joffrey ascends to the throne and kills the Stark household. Arya flees the Red Keep, accidentally killing a stable boy in her escape, hiding out as a beggar in the streets of King\\'s Landing. Ned is eventually taken to the Great Sept of Baelor to face judgment; he spots Arya in the crowd, and alerts the Night\\'s Watch recruiter Yoren to her presence. Yoren prevents Arya from witnessing Ned\\'s execution and has her pose as a boy, \"Arry\", to avoid detection as she joins Yoren\\'s recruits traveling north to Castle Black.', 'id': '20524e4c-ebef-4f72-a8ce-21618d34ac2e', 'score': 10.6369505, 'probability': 0.7907775749145959, 'question': None, 'meta': {'name': '43_Arya_Stark.txt'}, 'embedding': None},\n",
      "               {'text': '\\n====Season 1====\\nArya accompanies her father Ned and her sister Sansa to King\\'s Landing. Before their departure, Arya\\'s half-brother Jon Snow gifts Arya a sword which she dubs \"Needle\". On the Kingsroad, Arya is sparring with a butcher\\'s boy, Mycah, when Sansa\\'s betrothed Prince Joffrey Baratheon attacks Mycah, prompting Arya\\'s direwolf Nymeria to bite Joffrey. Arya shoos Nymeria away so she is not killed, but is furious when Sansa later refuses to support her version of events. Mycah is later killed by Joffrey\\'s bodyguard Sandor \"The Hound\" Clegane, earning him Arya\\'s hatred. Ned arranges for Arya to have sword lessons with the Braavosi Syrio Forel, who later defends her from Ser Meryn Trant after Joffrey ascends to the throne and kills the Stark household. Arya flees the Red Keep, accidentally killing a stable boy in her escape, hiding out as a beggar in the streets of King\\'s Landing. Ned is eventually taken to the Great Sept of Baelor to face judgment; he spots Arya in the crowd, and alerts the Night\\'s Watch recruiter Yoren to her presence. Yoren prevents Arya from witnessing Ned\\'s execution and has her pose as a boy, \"Arry\", to avoid detection as she joins Yoren\\'s recruits traveling north to Castle Black.', 'id': '341dd574-c559-4bc4-8b82-513de16362fc', 'score': 10.6369505, 'probability': 0.7907775749145959, 'question': None, 'meta': {'name': '43_Arya_Stark.txt'}, 'embedding': None}],\n",
      " 'query': 'Who is the father of Arya Stark??'}\n",
      "['__class__', '__delattr__', '__dict__', '__dir__', '__doc__', '__eq__', '__format__', '__ge__', '__getattribute__', '__gt__', '__hash__', '__init__', '__init_subclass__', '__le__', '__lt__', '__module__', '__ne__', '__new__', '__reduce__', '__reduce_ex__', '__repr__', '__setattr__', '__sizeof__', '__str__', '__subclasshook__', '__weakref__', 'embedding', 'from_dict', 'id', 'meta', 'probability', 'question', 'score', 'text', 'to_dict']\n"
     ]
    }
   ],
   "source": [
    "# Retriever only\n",
    "\n",
    "p_retrieval = Pipeline()\n",
    "\n",
    "p_retrieval.add_node(component=es_retriever, name=\"Retriever\", inputs=[\"Query\"])\n",
    "res = p_retrieval.run(query=\"Who is the father of Arya Stark?\", top_k_retriever=10)\n",
    "pprint(res)\n",
    "\n",
    "print(dir(res[\"documents\"][0]))\n",
    "# Output are Document objects which contain text, id, probability, score"
   ],
   "metadata": {
    "collapsed": false,
    "pycharm": {
     "name": "#%%\n"
    }
   }
  },
  {
   "cell_type": "code",
   "execution_count": 29,
   "outputs": [
    {
     "name": "stderr",
     "output_type": "stream",
     "text": [
      "04/19/2021 18:04:40 - INFO - elasticsearch -   POST http://localhost:9200/document/_count [status:200 request:0.127s]\n",
      "04/19/2021 18:04:40 - INFO - haystack.document_store.elasticsearch -   Updating embeddings for all 2497 docs ...\n",
      "04/19/2021 18:04:41 - INFO - elasticsearch -   POST http://localhost:9200/document/_search?scroll=1d&size=10000 [status:200 request:0.597s]\n",
      "04/19/2021 18:04:42 - INFO - elasticsearch -   POST http://localhost:9200/_search/scroll [status:200 request:0.013s]\n",
      "04/19/2021 18:04:42 - INFO - elasticsearch -   DELETE http://localhost:9200/_search/scroll [status:200 request:0.003s]\n",
      "Creating Embeddings: 100%|██████████| 157/157 [00:28<00:00,  5.44 Batches/s]\n",
      "04/19/2021 18:05:15 - INFO - elasticsearch -   POST http://localhost:9200/_bulk?refresh=wait_for [status:200 request:0.857s]\n",
      "04/19/2021 18:05:16 - INFO - elasticsearch -   POST http://localhost:9200/_bulk?refresh=wait_for [status:200 request:0.693s]\n",
      "04/19/2021 18:05:17 - INFO - elasticsearch -   POST http://localhost:9200/_bulk?refresh=wait_for [status:200 request:0.717s]\n",
      "04/19/2021 18:05:18 - INFO - elasticsearch -   POST http://localhost:9200/_bulk?refresh=wait_for [status:200 request:0.726s]\n",
      "04/19/2021 18:05:19 - INFO - elasticsearch -   POST http://localhost:9200/_bulk?refresh=wait_for [status:200 request:0.700s]\n",
      "04/19/2021 18:05:19 - INFO - elasticsearch -   POST http://localhost:9200/document/_search [status:200 request:0.040s]\n",
      "04/19/2021 18:05:19 - INFO - elasticsearch -   POST http://localhost:9200/document/_search [status:200 request:0.289s]\n"
     ]
    }
   ],
   "source": [
    "from haystack.retriever.dense import DensePassageRetriever\n",
    "from haystack.pipeline import JoinDocuments\n",
    "\n",
    "# Ensemble\n",
    "# Use JoinDocuments to merge the outputs of the two retrievers. Makes sure it can be used by reader?\n",
    "\n",
    "dpr_retriever = DensePassageRetriever(document_store)\n",
    "document_store.update_embeddings(dpr_retriever, update_existing_embeddings=False)\n",
    "\n",
    "p_ensemble = Pipeline()\n",
    "p_ensemble.add_node(component=es_retriever, name=\"ESRetriever\", inputs=[\"Query\"])\n",
    "p_ensemble.add_node(component=dpr_retriever, name=\"DPRRetriever\", inputs=[\"Query\"])\n",
    "p_ensemble.add_node(component=JoinDocuments(join_mode=\"concatenate\"), name=\"JoinResults\", inputs=[\"ESRetriever\", \"DPRRetriever\"])\n",
    "# p_ensemble.add_node(component=reader, name=\"QAReader\", inputs=[\"JoinResults\"])\n",
    "res = p_ensemble.run(query=\"Who is the father of Arya Stark?\", top_k_retriever=5) #This is top_k per retriever\n",
    "\n",
    "pprint(res)"
   ],
   "metadata": {
    "collapsed": false,
    "pycharm": {
     "name": "#%%\n"
    }
   }
  },
  {
   "cell_type": "code",
   "execution_count": 35,
   "outputs": [
    {
     "ename": "NameError",
     "evalue": "name 'p_ensemble' is not defined",
     "output_type": "error",
     "traceback": [
      "\u001B[0;31m---------------------------------------------------------------------------\u001B[0m",
      "\u001B[0;31mNameError\u001B[0m                                 Traceback (most recent call last)",
      "\u001B[0;32m<ipython-input-35-82041a5575db>\u001B[0m in \u001B[0;36m<module>\u001B[0;34m\u001B[0m\n\u001B[1;32m      3\u001B[0m \u001B[0;32mdel\u001B[0m \u001B[0mp_extractive_premade\u001B[0m\u001B[0;34m\u001B[0m\u001B[0;34m\u001B[0m\u001B[0m\n\u001B[1;32m      4\u001B[0m \u001B[0;32mdel\u001B[0m \u001B[0mp_retrieval\u001B[0m\u001B[0;34m\u001B[0m\u001B[0;34m\u001B[0m\u001B[0m\n\u001B[0;32m----> 5\u001B[0;31m \u001B[0;32mdel\u001B[0m \u001B[0mp_ensemble\u001B[0m\u001B[0;34m\u001B[0m\u001B[0;34m\u001B[0m\u001B[0m\n\u001B[0m\u001B[1;32m      6\u001B[0m \u001B[0;34m\u001B[0m\u001B[0m\n\u001B[1;32m      7\u001B[0m \u001B[0;34m\u001B[0m\u001B[0m\n",
      "\u001B[0;31mNameError\u001B[0m: name 'p_ensemble' is not defined"
     ]
    }
   ],
   "source": [
    "del reader\n",
    "del p_extractive\n",
    "del p_extractive_premade\n",
    "del p_retrieval\n",
    "del p_ensemble\n"
   ],
   "metadata": {
    "collapsed": false,
    "pycharm": {
     "name": "#%%\n"
    }
   }
  },
  {
   "cell_type": "code",
   "execution_count": 34,
   "outputs": [
    {
     "name": "stderr",
     "output_type": "stream",
     "text": [
      "Some weights of PegasusForConditionalGeneration were not initialized from the model checkpoint at google/pegasus-xsum and are newly initialized: ['lm_head.weight']\n",
      "You should probably TRAIN this model on a down-stream task to be able to use it for predictions and inference.\n"
     ]
    },
    {
     "ename": "RuntimeError",
     "evalue": "CUDA out of memory. Tried to allocate 376.00 MiB (GPU 0; 7.93 GiB total capacity; 6.73 GiB already allocated; 84.38 MiB free; 6.92 GiB reserved in total by PyTorch)",
     "output_type": "error",
     "traceback": [
      "\u001B[0;31m---------------------------------------------------------------------------\u001B[0m",
      "\u001B[0;31mRuntimeError\u001B[0m                              Traceback (most recent call last)",
      "\u001B[0;32m<ipython-input-34-078bdd982657>\u001B[0m in \u001B[0;36m<module>\u001B[0;34m\u001B[0m\n\u001B[1;32m      2\u001B[0m \u001B[0;34m\u001B[0m\u001B[0m\n\u001B[1;32m      3\u001B[0m \u001B[0;31m#Summarize\u001B[0m\u001B[0;34m\u001B[0m\u001B[0;34m\u001B[0m\u001B[0;34m\u001B[0m\u001B[0m\n\u001B[0;32m----> 4\u001B[0;31m \u001B[0msummarizer\u001B[0m \u001B[0;34m=\u001B[0m \u001B[0mTransformersSummarizer\u001B[0m\u001B[0;34m(\u001B[0m\u001B[0mmodel_name_or_path\u001B[0m\u001B[0;34m=\u001B[0m\u001B[0;34m\"google/pegasus-xsum\"\u001B[0m\u001B[0;34m)\u001B[0m\u001B[0;34m\u001B[0m\u001B[0;34m\u001B[0m\u001B[0m\n\u001B[0m\u001B[1;32m      5\u001B[0m \u001B[0;34m\u001B[0m\u001B[0m\n\u001B[1;32m      6\u001B[0m \u001B[0mp_summarizer\u001B[0m \u001B[0;34m=\u001B[0m \u001B[0mPipeline\u001B[0m\u001B[0;34m(\u001B[0m\u001B[0;34m)\u001B[0m\u001B[0;34m\u001B[0m\u001B[0;34m\u001B[0m\u001B[0m\n",
      "\u001B[0;32m~/Code/haystack/haystack/summarizer/transformers.py\u001B[0m in \u001B[0;36m__init__\u001B[0;34m(self, model_name_or_path, model_version, tokenizer, max_length, min_length, use_gpu, clean_up_tokenization_spaces, separator_for_single_summary, generate_single_summary)\u001B[0m\n\u001B[1;32m     86\u001B[0m             \u001B[0mtokenizer\u001B[0m \u001B[0;34m=\u001B[0m \u001B[0mmodel_name_or_path\u001B[0m\u001B[0;34m\u001B[0m\u001B[0;34m\u001B[0m\u001B[0m\n\u001B[1;32m     87\u001B[0m         \u001B[0mmodel\u001B[0m \u001B[0;34m=\u001B[0m \u001B[0mAutoModelForSeq2SeqLM\u001B[0m\u001B[0;34m.\u001B[0m\u001B[0mfrom_pretrained\u001B[0m\u001B[0;34m(\u001B[0m\u001B[0mpretrained_model_name_or_path\u001B[0m\u001B[0;34m=\u001B[0m\u001B[0mmodel_name_or_path\u001B[0m\u001B[0;34m,\u001B[0m \u001B[0mrevision\u001B[0m\u001B[0;34m=\u001B[0m\u001B[0mmodel_version\u001B[0m\u001B[0;34m)\u001B[0m\u001B[0;34m\u001B[0m\u001B[0;34m\u001B[0m\u001B[0m\n\u001B[0;32m---> 88\u001B[0;31m         \u001B[0mself\u001B[0m\u001B[0;34m.\u001B[0m\u001B[0msummarizer\u001B[0m \u001B[0;34m=\u001B[0m \u001B[0mpipeline\u001B[0m\u001B[0;34m(\u001B[0m\u001B[0;34m\"summarization\"\u001B[0m\u001B[0;34m,\u001B[0m \u001B[0mmodel\u001B[0m\u001B[0;34m=\u001B[0m\u001B[0mmodel\u001B[0m\u001B[0;34m,\u001B[0m \u001B[0mtokenizer\u001B[0m\u001B[0;34m=\u001B[0m\u001B[0mtokenizer\u001B[0m\u001B[0;34m,\u001B[0m \u001B[0mdevice\u001B[0m\u001B[0;34m=\u001B[0m\u001B[0muse_gpu\u001B[0m\u001B[0;34m)\u001B[0m\u001B[0;34m\u001B[0m\u001B[0;34m\u001B[0m\u001B[0m\n\u001B[0m\u001B[1;32m     89\u001B[0m         \u001B[0mself\u001B[0m\u001B[0;34m.\u001B[0m\u001B[0mmax_length\u001B[0m \u001B[0;34m=\u001B[0m \u001B[0mmax_length\u001B[0m\u001B[0;34m\u001B[0m\u001B[0;34m\u001B[0m\u001B[0m\n\u001B[1;32m     90\u001B[0m         \u001B[0mself\u001B[0m\u001B[0;34m.\u001B[0m\u001B[0mmin_length\u001B[0m \u001B[0;34m=\u001B[0m \u001B[0mmin_length\u001B[0m\u001B[0;34m\u001B[0m\u001B[0;34m\u001B[0m\u001B[0m\n",
      "\u001B[0;32m~/Code/anaconda3/envs/haystack/lib/python3.7/site-packages/transformers/pipelines.py\u001B[0m in \u001B[0;36mpipeline\u001B[0;34m(task, model, config, tokenizer, framework, revision, use_fast, **kwargs)\u001B[0m\n\u001B[1;32m   3307\u001B[0m                     \u001B[0;32mbreak\u001B[0m\u001B[0;34m\u001B[0m\u001B[0;34m\u001B[0m\u001B[0m\n\u001B[1;32m   3308\u001B[0m \u001B[0;34m\u001B[0m\u001B[0m\n\u001B[0;32m-> 3309\u001B[0;31m     \u001B[0;32mreturn\u001B[0m \u001B[0mtask_class\u001B[0m\u001B[0;34m(\u001B[0m\u001B[0mmodel\u001B[0m\u001B[0;34m=\u001B[0m\u001B[0mmodel\u001B[0m\u001B[0;34m,\u001B[0m \u001B[0mtokenizer\u001B[0m\u001B[0;34m=\u001B[0m\u001B[0mtokenizer\u001B[0m\u001B[0;34m,\u001B[0m \u001B[0mmodelcard\u001B[0m\u001B[0;34m=\u001B[0m\u001B[0mmodelcard\u001B[0m\u001B[0;34m,\u001B[0m \u001B[0mframework\u001B[0m\u001B[0;34m=\u001B[0m\u001B[0mframework\u001B[0m\u001B[0;34m,\u001B[0m \u001B[0mtask\u001B[0m\u001B[0;34m=\u001B[0m\u001B[0mtask\u001B[0m\u001B[0;34m,\u001B[0m \u001B[0;34m**\u001B[0m\u001B[0mkwargs\u001B[0m\u001B[0;34m)\u001B[0m\u001B[0;34m\u001B[0m\u001B[0;34m\u001B[0m\u001B[0m\n\u001B[0m",
      "\u001B[0;32m~/Code/anaconda3/envs/haystack/lib/python3.7/site-packages/transformers/pipelines.py\u001B[0m in \u001B[0;36m__init__\u001B[0;34m(self, *args, **kwargs)\u001B[0m\n\u001B[1;32m   2353\u001B[0m     \u001B[0;32mdef\u001B[0m \u001B[0m__init__\u001B[0m\u001B[0;34m(\u001B[0m\u001B[0mself\u001B[0m\u001B[0;34m,\u001B[0m \u001B[0;34m*\u001B[0m\u001B[0margs\u001B[0m\u001B[0;34m,\u001B[0m \u001B[0;34m**\u001B[0m\u001B[0mkwargs\u001B[0m\u001B[0;34m)\u001B[0m\u001B[0;34m:\u001B[0m\u001B[0;34m\u001B[0m\u001B[0;34m\u001B[0m\u001B[0m\n\u001B[1;32m   2354\u001B[0m         \u001B[0mkwargs\u001B[0m\u001B[0;34m.\u001B[0m\u001B[0mupdate\u001B[0m\u001B[0;34m(\u001B[0m\u001B[0mtask\u001B[0m\u001B[0;34m=\u001B[0m\u001B[0;34m\"summarization\"\u001B[0m\u001B[0;34m)\u001B[0m\u001B[0;34m\u001B[0m\u001B[0;34m\u001B[0m\u001B[0m\n\u001B[0;32m-> 2355\u001B[0;31m         \u001B[0msuper\u001B[0m\u001B[0;34m(\u001B[0m\u001B[0;34m)\u001B[0m\u001B[0;34m.\u001B[0m\u001B[0m__init__\u001B[0m\u001B[0;34m(\u001B[0m\u001B[0;34m*\u001B[0m\u001B[0margs\u001B[0m\u001B[0;34m,\u001B[0m \u001B[0;34m**\u001B[0m\u001B[0mkwargs\u001B[0m\u001B[0;34m)\u001B[0m\u001B[0;34m\u001B[0m\u001B[0;34m\u001B[0m\u001B[0m\n\u001B[0m\u001B[1;32m   2356\u001B[0m \u001B[0;34m\u001B[0m\u001B[0m\n\u001B[1;32m   2357\u001B[0m         self.check_model_type(\n",
      "\u001B[0;32m~/Code/anaconda3/envs/haystack/lib/python3.7/site-packages/transformers/pipelines.py\u001B[0m in \u001B[0;36m__init__\u001B[0;34m(self, model, tokenizer, modelcard, framework, task, args_parser, device, binary_output)\u001B[0m\n\u001B[1;32m    528\u001B[0m         \u001B[0;31m# Special handling\u001B[0m\u001B[0;34m\u001B[0m\u001B[0;34m\u001B[0m\u001B[0;34m\u001B[0m\u001B[0m\n\u001B[1;32m    529\u001B[0m         \u001B[0;32mif\u001B[0m \u001B[0mself\u001B[0m\u001B[0;34m.\u001B[0m\u001B[0mframework\u001B[0m \u001B[0;34m==\u001B[0m \u001B[0;34m\"pt\"\u001B[0m \u001B[0;32mand\u001B[0m \u001B[0mself\u001B[0m\u001B[0;34m.\u001B[0m\u001B[0mdevice\u001B[0m\u001B[0;34m.\u001B[0m\u001B[0mtype\u001B[0m \u001B[0;34m==\u001B[0m \u001B[0;34m\"cuda\"\u001B[0m\u001B[0;34m:\u001B[0m\u001B[0;34m\u001B[0m\u001B[0;34m\u001B[0m\u001B[0m\n\u001B[0;32m--> 530\u001B[0;31m             \u001B[0mself\u001B[0m\u001B[0;34m.\u001B[0m\u001B[0mmodel\u001B[0m \u001B[0;34m=\u001B[0m \u001B[0mself\u001B[0m\u001B[0;34m.\u001B[0m\u001B[0mmodel\u001B[0m\u001B[0;34m.\u001B[0m\u001B[0mto\u001B[0m\u001B[0;34m(\u001B[0m\u001B[0mself\u001B[0m\u001B[0;34m.\u001B[0m\u001B[0mdevice\u001B[0m\u001B[0;34m)\u001B[0m\u001B[0;34m\u001B[0m\u001B[0;34m\u001B[0m\u001B[0m\n\u001B[0m\u001B[1;32m    531\u001B[0m \u001B[0;34m\u001B[0m\u001B[0m\n\u001B[1;32m    532\u001B[0m         \u001B[0;31m# Update config with task specific parameters\u001B[0m\u001B[0;34m\u001B[0m\u001B[0;34m\u001B[0m\u001B[0;34m\u001B[0m\u001B[0m\n",
      "\u001B[0;32m~/Code/anaconda3/envs/haystack/lib/python3.7/site-packages/torch/nn/modules/module.py\u001B[0m in \u001B[0;36mto\u001B[0;34m(self, *args, **kwargs)\u001B[0m\n\u001B[1;32m    605\u001B[0m             \u001B[0;32mreturn\u001B[0m \u001B[0mt\u001B[0m\u001B[0;34m.\u001B[0m\u001B[0mto\u001B[0m\u001B[0;34m(\u001B[0m\u001B[0mdevice\u001B[0m\u001B[0;34m,\u001B[0m \u001B[0mdtype\u001B[0m \u001B[0;32mif\u001B[0m \u001B[0mt\u001B[0m\u001B[0;34m.\u001B[0m\u001B[0mis_floating_point\u001B[0m\u001B[0;34m(\u001B[0m\u001B[0;34m)\u001B[0m \u001B[0;32melse\u001B[0m \u001B[0;32mNone\u001B[0m\u001B[0;34m,\u001B[0m \u001B[0mnon_blocking\u001B[0m\u001B[0;34m)\u001B[0m\u001B[0;34m\u001B[0m\u001B[0;34m\u001B[0m\u001B[0m\n\u001B[1;32m    606\u001B[0m \u001B[0;34m\u001B[0m\u001B[0m\n\u001B[0;32m--> 607\u001B[0;31m         \u001B[0;32mreturn\u001B[0m \u001B[0mself\u001B[0m\u001B[0;34m.\u001B[0m\u001B[0m_apply\u001B[0m\u001B[0;34m(\u001B[0m\u001B[0mconvert\u001B[0m\u001B[0;34m)\u001B[0m\u001B[0;34m\u001B[0m\u001B[0;34m\u001B[0m\u001B[0m\n\u001B[0m\u001B[1;32m    608\u001B[0m \u001B[0;34m\u001B[0m\u001B[0m\n\u001B[1;32m    609\u001B[0m     def register_backward_hook(\n",
      "\u001B[0;32m~/Code/anaconda3/envs/haystack/lib/python3.7/site-packages/torch/nn/modules/module.py\u001B[0m in \u001B[0;36m_apply\u001B[0;34m(self, fn)\u001B[0m\n\u001B[1;32m    352\u001B[0m     \u001B[0;32mdef\u001B[0m \u001B[0m_apply\u001B[0m\u001B[0;34m(\u001B[0m\u001B[0mself\u001B[0m\u001B[0;34m,\u001B[0m \u001B[0mfn\u001B[0m\u001B[0;34m)\u001B[0m\u001B[0;34m:\u001B[0m\u001B[0;34m\u001B[0m\u001B[0;34m\u001B[0m\u001B[0m\n\u001B[1;32m    353\u001B[0m         \u001B[0;32mfor\u001B[0m \u001B[0mmodule\u001B[0m \u001B[0;32min\u001B[0m \u001B[0mself\u001B[0m\u001B[0;34m.\u001B[0m\u001B[0mchildren\u001B[0m\u001B[0;34m(\u001B[0m\u001B[0;34m)\u001B[0m\u001B[0;34m:\u001B[0m\u001B[0;34m\u001B[0m\u001B[0;34m\u001B[0m\u001B[0m\n\u001B[0;32m--> 354\u001B[0;31m             \u001B[0mmodule\u001B[0m\u001B[0;34m.\u001B[0m\u001B[0m_apply\u001B[0m\u001B[0;34m(\u001B[0m\u001B[0mfn\u001B[0m\u001B[0;34m)\u001B[0m\u001B[0;34m\u001B[0m\u001B[0;34m\u001B[0m\u001B[0m\n\u001B[0m\u001B[1;32m    355\u001B[0m \u001B[0;34m\u001B[0m\u001B[0m\n\u001B[1;32m    356\u001B[0m         \u001B[0;32mdef\u001B[0m \u001B[0mcompute_should_use_set_data\u001B[0m\u001B[0;34m(\u001B[0m\u001B[0mtensor\u001B[0m\u001B[0;34m,\u001B[0m \u001B[0mtensor_applied\u001B[0m\u001B[0;34m)\u001B[0m\u001B[0;34m:\u001B[0m\u001B[0;34m\u001B[0m\u001B[0;34m\u001B[0m\u001B[0m\n",
      "\u001B[0;32m~/Code/anaconda3/envs/haystack/lib/python3.7/site-packages/torch/nn/modules/module.py\u001B[0m in \u001B[0;36m_apply\u001B[0;34m(self, fn)\u001B[0m\n\u001B[1;32m    352\u001B[0m     \u001B[0;32mdef\u001B[0m \u001B[0m_apply\u001B[0m\u001B[0;34m(\u001B[0m\u001B[0mself\u001B[0m\u001B[0;34m,\u001B[0m \u001B[0mfn\u001B[0m\u001B[0;34m)\u001B[0m\u001B[0;34m:\u001B[0m\u001B[0;34m\u001B[0m\u001B[0;34m\u001B[0m\u001B[0m\n\u001B[1;32m    353\u001B[0m         \u001B[0;32mfor\u001B[0m \u001B[0mmodule\u001B[0m \u001B[0;32min\u001B[0m \u001B[0mself\u001B[0m\u001B[0;34m.\u001B[0m\u001B[0mchildren\u001B[0m\u001B[0;34m(\u001B[0m\u001B[0;34m)\u001B[0m\u001B[0;34m:\u001B[0m\u001B[0;34m\u001B[0m\u001B[0;34m\u001B[0m\u001B[0m\n\u001B[0;32m--> 354\u001B[0;31m             \u001B[0mmodule\u001B[0m\u001B[0;34m.\u001B[0m\u001B[0m_apply\u001B[0m\u001B[0;34m(\u001B[0m\u001B[0mfn\u001B[0m\u001B[0;34m)\u001B[0m\u001B[0;34m\u001B[0m\u001B[0;34m\u001B[0m\u001B[0m\n\u001B[0m\u001B[1;32m    355\u001B[0m \u001B[0;34m\u001B[0m\u001B[0m\n\u001B[1;32m    356\u001B[0m         \u001B[0;32mdef\u001B[0m \u001B[0mcompute_should_use_set_data\u001B[0m\u001B[0;34m(\u001B[0m\u001B[0mtensor\u001B[0m\u001B[0;34m,\u001B[0m \u001B[0mtensor_applied\u001B[0m\u001B[0;34m)\u001B[0m\u001B[0;34m:\u001B[0m\u001B[0;34m\u001B[0m\u001B[0;34m\u001B[0m\u001B[0m\n",
      "\u001B[0;32m~/Code/anaconda3/envs/haystack/lib/python3.7/site-packages/torch/nn/modules/module.py\u001B[0m in \u001B[0;36m_apply\u001B[0;34m(self, fn)\u001B[0m\n\u001B[1;32m    374\u001B[0m                 \u001B[0;31m# `with torch.no_grad():`\u001B[0m\u001B[0;34m\u001B[0m\u001B[0;34m\u001B[0m\u001B[0;34m\u001B[0m\u001B[0m\n\u001B[1;32m    375\u001B[0m                 \u001B[0;32mwith\u001B[0m \u001B[0mtorch\u001B[0m\u001B[0;34m.\u001B[0m\u001B[0mno_grad\u001B[0m\u001B[0;34m(\u001B[0m\u001B[0;34m)\u001B[0m\u001B[0;34m:\u001B[0m\u001B[0;34m\u001B[0m\u001B[0;34m\u001B[0m\u001B[0m\n\u001B[0;32m--> 376\u001B[0;31m                     \u001B[0mparam_applied\u001B[0m \u001B[0;34m=\u001B[0m \u001B[0mfn\u001B[0m\u001B[0;34m(\u001B[0m\u001B[0mparam\u001B[0m\u001B[0;34m)\u001B[0m\u001B[0;34m\u001B[0m\u001B[0;34m\u001B[0m\u001B[0m\n\u001B[0m\u001B[1;32m    377\u001B[0m                 \u001B[0mshould_use_set_data\u001B[0m \u001B[0;34m=\u001B[0m \u001B[0mcompute_should_use_set_data\u001B[0m\u001B[0;34m(\u001B[0m\u001B[0mparam\u001B[0m\u001B[0;34m,\u001B[0m \u001B[0mparam_applied\u001B[0m\u001B[0;34m)\u001B[0m\u001B[0;34m\u001B[0m\u001B[0;34m\u001B[0m\u001B[0m\n\u001B[1;32m    378\u001B[0m                 \u001B[0;32mif\u001B[0m \u001B[0mshould_use_set_data\u001B[0m\u001B[0;34m:\u001B[0m\u001B[0;34m\u001B[0m\u001B[0;34m\u001B[0m\u001B[0m\n",
      "\u001B[0;32m~/Code/anaconda3/envs/haystack/lib/python3.7/site-packages/torch/nn/modules/module.py\u001B[0m in \u001B[0;36mconvert\u001B[0;34m(t)\u001B[0m\n\u001B[1;32m    603\u001B[0m             \u001B[0;32mif\u001B[0m \u001B[0mconvert_to_format\u001B[0m \u001B[0;32mis\u001B[0m \u001B[0;32mnot\u001B[0m \u001B[0;32mNone\u001B[0m \u001B[0;32mand\u001B[0m \u001B[0mt\u001B[0m\u001B[0;34m.\u001B[0m\u001B[0mdim\u001B[0m\u001B[0;34m(\u001B[0m\u001B[0;34m)\u001B[0m \u001B[0;34m==\u001B[0m \u001B[0;36m4\u001B[0m\u001B[0;34m:\u001B[0m\u001B[0;34m\u001B[0m\u001B[0;34m\u001B[0m\u001B[0m\n\u001B[1;32m    604\u001B[0m                 \u001B[0;32mreturn\u001B[0m \u001B[0mt\u001B[0m\u001B[0;34m.\u001B[0m\u001B[0mto\u001B[0m\u001B[0;34m(\u001B[0m\u001B[0mdevice\u001B[0m\u001B[0;34m,\u001B[0m \u001B[0mdtype\u001B[0m \u001B[0;32mif\u001B[0m \u001B[0mt\u001B[0m\u001B[0;34m.\u001B[0m\u001B[0mis_floating_point\u001B[0m\u001B[0;34m(\u001B[0m\u001B[0;34m)\u001B[0m \u001B[0;32melse\u001B[0m \u001B[0;32mNone\u001B[0m\u001B[0;34m,\u001B[0m \u001B[0mnon_blocking\u001B[0m\u001B[0;34m,\u001B[0m \u001B[0mmemory_format\u001B[0m\u001B[0;34m=\u001B[0m\u001B[0mconvert_to_format\u001B[0m\u001B[0;34m)\u001B[0m\u001B[0;34m\u001B[0m\u001B[0;34m\u001B[0m\u001B[0m\n\u001B[0;32m--> 605\u001B[0;31m             \u001B[0;32mreturn\u001B[0m \u001B[0mt\u001B[0m\u001B[0;34m.\u001B[0m\u001B[0mto\u001B[0m\u001B[0;34m(\u001B[0m\u001B[0mdevice\u001B[0m\u001B[0;34m,\u001B[0m \u001B[0mdtype\u001B[0m \u001B[0;32mif\u001B[0m \u001B[0mt\u001B[0m\u001B[0;34m.\u001B[0m\u001B[0mis_floating_point\u001B[0m\u001B[0;34m(\u001B[0m\u001B[0;34m)\u001B[0m \u001B[0;32melse\u001B[0m \u001B[0;32mNone\u001B[0m\u001B[0;34m,\u001B[0m \u001B[0mnon_blocking\u001B[0m\u001B[0;34m)\u001B[0m\u001B[0;34m\u001B[0m\u001B[0;34m\u001B[0m\u001B[0m\n\u001B[0m\u001B[1;32m    606\u001B[0m \u001B[0;34m\u001B[0m\u001B[0m\n\u001B[1;32m    607\u001B[0m         \u001B[0;32mreturn\u001B[0m \u001B[0mself\u001B[0m\u001B[0;34m.\u001B[0m\u001B[0m_apply\u001B[0m\u001B[0;34m(\u001B[0m\u001B[0mconvert\u001B[0m\u001B[0;34m)\u001B[0m\u001B[0;34m\u001B[0m\u001B[0;34m\u001B[0m\u001B[0m\n",
      "\u001B[0;31mRuntimeError\u001B[0m: CUDA out of memory. Tried to allocate 376.00 MiB (GPU 0; 7.93 GiB total capacity; 6.73 GiB already allocated; 84.38 MiB free; 6.92 GiB reserved in total by PyTorch)"
     ]
    }
   ],
   "source": [
    "from haystack.summarizer import TransformersSummarizer\n",
    "\n",
    "#Summarize\n",
    "summarizer = TransformersSummarizer(model_name_or_path=\"google/pegasus-xsum\")\n",
    "\n",
    "p_summarizer = Pipeline()\n",
    "p_summarizer.add_node(component=es_retriever, name=\"Retriever\", inputs=[\"Query\"])\n",
    "p_summarizer.add_node(component=summarizer, name=\"Summarizer\", inputs=[\"Retriever\"])\n",
    "res = p_summarizer.run(query=\"Who is the father of Arya Stark??\", top_k_retriever=10)\n",
    "\n",
    "pprint(res)"
   ],
   "metadata": {
    "collapsed": false,
    "pycharm": {
     "name": "#%%\n"
    }
   }
  },
  {
   "cell_type": "code",
   "execution_count": null,
   "outputs": [],
   "source": [
    "# Generator?"
   ],
   "metadata": {
    "collapsed": false,
    "pycharm": {
     "name": "#%%\n"
    }
   }
  },
  {
   "cell_type": "code",
   "execution_count": null,
   "outputs": [],
   "source": [
    "#Translate?"
   ],
   "metadata": {
    "collapsed": false,
    "pycharm": {
     "name": "#%%\n"
    }
   }
  },
  {
   "cell_type": "code",
   "execution_count": null,
   "outputs": [],
   "source": [
    "# Multi end point?\n"
   ],
   "metadata": {
    "collapsed": false,
    "pycharm": {
     "name": "#%%\n"
    }
   }
  }
 ],
 "metadata": {
  "kernelspec": {
   "display_name": "Python 3",
   "language": "python",
   "name": "python3"
  },
  "language_info": {
   "codemirror_mode": {
    "name": "ipython",
    "version": 2
   },
   "file_extension": ".py",
   "mimetype": "text/x-python",
   "name": "python",
   "nbconvert_exporter": "python",
   "pygments_lexer": "ipython2",
   "version": "2.7.6"
  }
 },
 "nbformat": 4,
 "nbformat_minor": 0
}